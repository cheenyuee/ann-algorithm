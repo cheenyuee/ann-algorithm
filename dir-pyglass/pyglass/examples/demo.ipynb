{
 "cells": [
  {
   "cell_type": "code",
   "execution_count": null,
   "metadata": {},
   "outputs": [],
   "source": [
    "import glassppy as glass\n",
    "from ann_dataset import dataset_dict"
   ]
  },
  {
   "cell_type": "code",
   "execution_count": null,
   "metadata": {},
   "outputs": [],
   "source": [
    "topk = 10\n",
    "dataset = dataset_dict['sift-128-euclidean']()\n",
    "X_train = dataset.get_database()\n",
    "X_test = dataset.get_queries()\n",
    "Y = dataset.get_groundtruth(topk)\n",
    "n, d = X_train.shape\n",
    "nq, d = X_test.shape\n",
    "metric = dataset.metric\n",
    "print(f\"n = {n}, d = {d}, nq = {nq}, metric = {metric}\")\n",
    "print(f\"dataset size = {n * d * 4 / 1024 / 1024:.2f}MB\")\n"
   ]
  },
  {
   "cell_type": "code",
   "execution_count": null,
   "metadata": {},
   "outputs": [],
   "source": [
    "index = glass.Index(index_type=\"HNSW\", dim=d, metric=metric, R=32, L=100)\n",
    "g = index.build(X_train)\n"
   ]
  },
  {
   "cell_type": "code",
   "execution_count": null,
   "metadata": {},
   "outputs": [],
   "source": [
    "s = glass.Searcher(graph=g, data=X_train, metric=metric, level=2)\n",
    "s.set_ef(36)\n"
   ]
  },
  {
   "cell_type": "code",
   "execution_count": null,
   "metadata": {},
   "outputs": [],
   "source": [
    "from os import cpu_count\n",
    "from time import time\n",
    "num_threads = cpu_count()\n",
    "\n",
    "pred = s.batch_search(query=X_test, k=topk, num_threads=num_threads).reshape(-1, topk)\n",
    "recall = dataset.evaluate(pred, topk)\n",
    "print(f\"Recall = {recall * 100:.2f}%\")\n"
   ]
  },
  {
   "cell_type": "code",
   "execution_count": null,
   "metadata": {},
   "outputs": [],
   "source": [
    "s.batch_search(query=X_test, k=topk, num_threads=num_threads)  # warmup\n",
    "for iter in range(10):\n",
    "    t1 = time()\n",
    "    pred = s.batch_search(query=X_test, k=topk, num_threads=num_threads)\n",
    "    t2 = time()\n",
    "    print(f\"QPS = {nq / (t2 - t1):.2f}\")\n"
   ]
  },
  {
   "cell_type": "code",
   "execution_count": null,
   "metadata": {},
   "outputs": [],
   "source": [
    "s.optimize()\n"
   ]
  },
  {
   "cell_type": "code",
   "execution_count": null,
   "metadata": {},
   "outputs": [],
   "source": [
    "s.batch_search(query=X_test, k=topk, num_threads=num_threads)  # warmup\n",
    "for iter in range(10):\n",
    "    t1 = time()\n",
    "    pred = s.batch_search(query=X_test, k=topk,\n",
    "                          num_threads=num_threads).reshape(-1, topk)\n",
    "    t2 = time()\n",
    "    print(f\"QPS = {nq / (t2 - t1)}\")\n"
   ]
  }
 ],
 "metadata": {
  "kernelspec": {
   "display_name": "hy",
   "language": "python",
   "name": "python3"
  },
  "language_info": {
   "codemirror_mode": {
    "name": "ipython",
    "version": 3
   },
   "file_extension": ".py",
   "mimetype": "text/x-python",
   "name": "python",
   "nbconvert_exporter": "python",
   "pygments_lexer": "ipython3",
   "version": "3.11.3"
  },
  "orig_nbformat": 4
 },
 "nbformat": 4,
 "nbformat_minor": 2
}
